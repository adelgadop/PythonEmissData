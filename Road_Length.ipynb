{
 "cells": [
  {
   "cell_type": "markdown",
   "metadata": {},
   "source": [
    "# Road Length for Grid Emissions Modeling Domain"
   ]
  },
  {
   "cell_type": "markdown",
   "metadata": {},
   "source": [
    "## Import Libraries and Data"
   ]
  },
  {
   "cell_type": "code",
   "execution_count": 1,
   "metadata": {},
   "outputs": [],
   "source": [
    "import pandas as pd\n",
    "import numpy as np"
   ]
  },
  {
   "cell_type": "code",
   "execution_count": 2,
   "metadata": {
    "scrolled": true
   },
   "outputs": [],
   "source": [
    "path = '../2_Emissions_inventory/roads/'\n",
    "df3 = pd.read_csv(path+'grid3km_d02.csv')\n",
    "df15 = pd.read_csv(path+'grid15km.csv')\n",
    "\n",
    "# The following file works with wrfchemi_cbmz.ncl\n",
    "s5 = pd.read_csv('../2_Emissions_inventory/wrfchemi/s5.txt', delim_whitespace=True)"
   ]
  },
  {
   "cell_type": "code",
   "execution_count": 3,
   "metadata": {},
   "outputs": [
    {
     "data": {
      "text/html": [
       "<div>\n",
       "<style scoped>\n",
       "    .dataframe tbody tr th:only-of-type {\n",
       "        vertical-align: middle;\n",
       "    }\n",
       "\n",
       "    .dataframe tbody tr th {\n",
       "        vertical-align: top;\n",
       "    }\n",
       "\n",
       "    .dataframe thead th {\n",
       "        text-align: right;\n",
       "    }\n",
       "</style>\n",
       "<table border=\"1\" class=\"dataframe\">\n",
       "  <thead>\n",
       "    <tr style=\"text-align: right;\">\n",
       "      <th></th>\n",
       "      <th>id</th>\n",
       "      <th>Xlon</th>\n",
       "      <th>Ylat</th>\n",
       "      <th>roadLength</th>\n",
       "    </tr>\n",
       "  </thead>\n",
       "  <tbody>\n",
       "    <tr>\n",
       "      <th>0</th>\n",
       "      <td>0</td>\n",
       "      <td>-51.691510</td>\n",
       "      <td>-19.49425</td>\n",
       "      <td>0</td>\n",
       "    </tr>\n",
       "    <tr>\n",
       "      <th>1</th>\n",
       "      <td>1</td>\n",
       "      <td>-51.600469</td>\n",
       "      <td>-19.49425</td>\n",
       "      <td>0</td>\n",
       "    </tr>\n",
       "    <tr>\n",
       "      <th>2</th>\n",
       "      <td>2</td>\n",
       "      <td>-51.509428</td>\n",
       "      <td>-19.49425</td>\n",
       "      <td>0</td>\n",
       "    </tr>\n",
       "    <tr>\n",
       "      <th>3</th>\n",
       "      <td>3</td>\n",
       "      <td>-51.418387</td>\n",
       "      <td>-19.49425</td>\n",
       "      <td>0</td>\n",
       "    </tr>\n",
       "    <tr>\n",
       "      <th>4</th>\n",
       "      <td>4</td>\n",
       "      <td>-51.327346</td>\n",
       "      <td>-19.49425</td>\n",
       "      <td>12</td>\n",
       "    </tr>\n",
       "    <tr>\n",
       "      <th>...</th>\n",
       "      <td>...</td>\n",
       "      <td>...</td>\n",
       "      <td>...</td>\n",
       "      <td>...</td>\n",
       "    </tr>\n",
       "    <tr>\n",
       "      <th>14746</th>\n",
       "      <td>14746</td>\n",
       "      <td>-38.581613</td>\n",
       "      <td>-27.55580</td>\n",
       "      <td>0</td>\n",
       "    </tr>\n",
       "    <tr>\n",
       "      <th>14747</th>\n",
       "      <td>14747</td>\n",
       "      <td>-38.490572</td>\n",
       "      <td>-27.55580</td>\n",
       "      <td>0</td>\n",
       "    </tr>\n",
       "    <tr>\n",
       "      <th>14748</th>\n",
       "      <td>14748</td>\n",
       "      <td>-38.399531</td>\n",
       "      <td>-27.55580</td>\n",
       "      <td>0</td>\n",
       "    </tr>\n",
       "    <tr>\n",
       "      <th>14749</th>\n",
       "      <td>14749</td>\n",
       "      <td>-38.308490</td>\n",
       "      <td>-27.55580</td>\n",
       "      <td>0</td>\n",
       "    </tr>\n",
       "    <tr>\n",
       "      <th>14750</th>\n",
       "      <td>14750</td>\n",
       "      <td>-38.217450</td>\n",
       "      <td>-27.55580</td>\n",
       "      <td>0</td>\n",
       "    </tr>\n",
       "  </tbody>\n",
       "</table>\n",
       "<p>14751 rows × 4 columns</p>\n",
       "</div>"
      ],
      "text/plain": [
       "          id       Xlon      Ylat  roadLength\n",
       "0          0 -51.691510 -19.49425           0\n",
       "1          1 -51.600469 -19.49425           0\n",
       "2          2 -51.509428 -19.49425           0\n",
       "3          3 -51.418387 -19.49425           0\n",
       "4          4 -51.327346 -19.49425          12\n",
       "...      ...        ...       ...         ...\n",
       "14746  14746 -38.581613 -27.55580           0\n",
       "14747  14747 -38.490572 -27.55580           0\n",
       "14748  14748 -38.399531 -27.55580           0\n",
       "14749  14749 -38.308490 -27.55580           0\n",
       "14750  14750 -38.217450 -27.55580           0\n",
       "\n",
       "[14751 rows x 4 columns]"
      ]
     },
     "execution_count": 3,
     "metadata": {},
     "output_type": "execute_result"
    }
   ],
   "source": [
    "s5"
   ]
  },
  {
   "cell_type": "code",
   "execution_count": 4,
   "metadata": {},
   "outputs": [
    {
     "data": {
      "text/html": [
       "<div>\n",
       "<style scoped>\n",
       "    .dataframe tbody tr th:only-of-type {\n",
       "        vertical-align: middle;\n",
       "    }\n",
       "\n",
       "    .dataframe tbody tr th {\n",
       "        vertical-align: top;\n",
       "    }\n",
       "\n",
       "    .dataframe thead th {\n",
       "        text-align: right;\n",
       "    }\n",
       "</style>\n",
       "<table border=\"1\" class=\"dataframe\">\n",
       "  <thead>\n",
       "    <tr style=\"text-align: right;\">\n",
       "      <th></th>\n",
       "      <th>id</th>\n",
       "      <th>vehroads_s</th>\n",
       "      <th>Ylat</th>\n",
       "      <th>Xlon</th>\n",
       "    </tr>\n",
       "  </thead>\n",
       "  <tbody>\n",
       "    <tr>\n",
       "      <th>0</th>\n",
       "      <td>1</td>\n",
       "      <td>4.176001e+06</td>\n",
       "      <td>-19.36757</td>\n",
       "      <td>-53.46243</td>\n",
       "    </tr>\n",
       "    <tr>\n",
       "      <th>1</th>\n",
       "      <td>2</td>\n",
       "      <td>2.583874e+06</td>\n",
       "      <td>-19.50270</td>\n",
       "      <td>-53.46243</td>\n",
       "    </tr>\n",
       "    <tr>\n",
       "      <th>2</th>\n",
       "      <td>3</td>\n",
       "      <td>1.636485e+06</td>\n",
       "      <td>-19.63784</td>\n",
       "      <td>-53.46243</td>\n",
       "    </tr>\n",
       "    <tr>\n",
       "      <th>3</th>\n",
       "      <td>4</td>\n",
       "      <td>2.518815e+06</td>\n",
       "      <td>-19.77297</td>\n",
       "      <td>-53.46243</td>\n",
       "    </tr>\n",
       "    <tr>\n",
       "      <th>4</th>\n",
       "      <td>5</td>\n",
       "      <td>1.960429e+06</td>\n",
       "      <td>-19.90811</td>\n",
       "      <td>-53.46243</td>\n",
       "    </tr>\n",
       "    <tr>\n",
       "      <th>...</th>\n",
       "      <td>...</td>\n",
       "      <td>...</td>\n",
       "      <td>...</td>\n",
       "      <td>...</td>\n",
       "    </tr>\n",
       "    <tr>\n",
       "      <th>6484</th>\n",
       "      <td>6485</td>\n",
       "      <td>0.000000e+00</td>\n",
       "      <td>-27.20541</td>\n",
       "      <td>-39.67865</td>\n",
       "    </tr>\n",
       "    <tr>\n",
       "      <th>6485</th>\n",
       "      <td>6486</td>\n",
       "      <td>0.000000e+00</td>\n",
       "      <td>-27.34054</td>\n",
       "      <td>-39.67865</td>\n",
       "    </tr>\n",
       "    <tr>\n",
       "      <th>6486</th>\n",
       "      <td>6487</td>\n",
       "      <td>0.000000e+00</td>\n",
       "      <td>-27.47568</td>\n",
       "      <td>-39.67865</td>\n",
       "    </tr>\n",
       "    <tr>\n",
       "      <th>6487</th>\n",
       "      <td>6488</td>\n",
       "      <td>0.000000e+00</td>\n",
       "      <td>-27.61081</td>\n",
       "      <td>-39.67865</td>\n",
       "    </tr>\n",
       "    <tr>\n",
       "      <th>6488</th>\n",
       "      <td>6489</td>\n",
       "      <td>0.000000e+00</td>\n",
       "      <td>-27.74595</td>\n",
       "      <td>-39.67865</td>\n",
       "    </tr>\n",
       "  </tbody>\n",
       "</table>\n",
       "<p>6489 rows × 4 columns</p>\n",
       "</div>"
      ],
      "text/plain": [
       "        id    vehroads_s      Ylat      Xlon\n",
       "0        1  4.176001e+06 -19.36757 -53.46243\n",
       "1        2  2.583874e+06 -19.50270 -53.46243\n",
       "2        3  1.636485e+06 -19.63784 -53.46243\n",
       "3        4  2.518815e+06 -19.77297 -53.46243\n",
       "4        5  1.960429e+06 -19.90811 -53.46243\n",
       "...    ...           ...       ...       ...\n",
       "6484  6485  0.000000e+00 -27.20541 -39.67865\n",
       "6485  6486  0.000000e+00 -27.34054 -39.67865\n",
       "6486  6487  0.000000e+00 -27.47568 -39.67865\n",
       "6487  6488  0.000000e+00 -27.61081 -39.67865\n",
       "6488  6489  0.000000e+00 -27.74595 -39.67865\n",
       "\n",
       "[6489 rows x 4 columns]"
      ]
     },
     "execution_count": 4,
     "metadata": {},
     "output_type": "execute_result"
    }
   ],
   "source": [
    "df15"
   ]
  },
  {
   "cell_type": "markdown",
   "metadata": {},
   "source": [
    "## Calculate nx and ny for each grid resolution"
   ]
  },
  {
   "cell_type": "markdown",
   "metadata": {},
   "source": [
    "For the grid domain of 3 km of spatial resolution:"
   ]
  },
  {
   "cell_type": "code",
   "execution_count": 5,
   "metadata": {
    "scrolled": true
   },
   "outputs": [
    {
     "name": "stdout",
     "output_type": "stream",
     "text": [
      "nx:  173\n",
      "ny:  127\n"
     ]
    }
   ],
   "source": [
    "print(\"nx: \", df3.Xlon.nunique()) ; print(\"ny: \",df3.Ylat.nunique())"
   ]
  },
  {
   "cell_type": "markdown",
   "metadata": {},
   "source": [
    "For the grid domain of 15 km of spatial resolution:"
   ]
  },
  {
   "cell_type": "code",
   "execution_count": 6,
   "metadata": {},
   "outputs": [
    {
     "name": "stdout",
     "output_type": "stream",
     "text": [
      "nx:  103\n",
      "ny:  63\n"
     ]
    }
   ],
   "source": [
    "print(\"nx: \", df15.Xlon.nunique()) ; print(\"ny: \",df15.Ylat.nunique())"
   ]
  },
  {
   "cell_type": "code",
   "execution_count": 7,
   "metadata": {},
   "outputs": [
    {
     "name": "stdout",
     "output_type": "stream",
     "text": [
      "nx:  149\n",
      "ny:  99\n"
     ]
    }
   ],
   "source": [
    "print(\"nx: \", s5.Xlon.nunique()) ; print(\"ny: \",s5.Ylat.nunique())"
   ]
  },
  {
   "cell_type": "markdown",
   "metadata": {},
   "source": [
    "## Write files as *.txt"
   ]
  },
  {
   "cell_type": "code",
   "execution_count": 8,
   "metadata": {},
   "outputs": [],
   "source": [
    "def order(df=df3):\n",
    "    df.loc[:,'id']=range(len(df.id))\n",
    "    df = df[['id','Xlon','Ylat','vehroads_s']]\n",
    "    df = df.round({\"id\":0,\"Xlon\":5, \"Ylat\":5, \"vehroads_s\":3})\n",
    "    df = df.sort_values(by=['Ylat','Xlon'],ascending=[False,True])\n",
    "    df.loc[:,'id']=np.arange(0.0,len(df.id))\n",
    "    return df\n",
    "\n",
    "df3 = order(df=df3); df15 = order(df=df15)"
   ]
  },
  {
   "cell_type": "code",
   "execution_count": 9,
   "metadata": {},
   "outputs": [],
   "source": [
    "def vias(fname = 'grid3km_d02.txt',file = df3):\n",
    "    np.savetxt(path+fname, file, delimiter='  ',  \n",
    "           fmt= ['%12.0f', '%5.5f', '%14.5f','%15.3f'])\n",
    "vias()\n",
    "vias(fname='grid15km_final.txt', file=df15)"
   ]
  },
  {
   "cell_type": "code",
   "execution_count": 11,
   "metadata": {},
   "outputs": [
    {
     "name": "stdout",
     "output_type": "stream",
     "text": [
      "           0  -48.99649       -21.65351       363756.909\r\n",
      "           1  -48.96946       -21.65351            0.000\r\n",
      "           2  -48.94243       -21.65351            0.000\r\n",
      "           3  -48.91541       -21.65351            0.000\r\n",
      "           4  -48.88838       -21.65351            0.000\r\n",
      "           5  -48.86135       -21.65351            0.000\r\n",
      "           6  -48.83432       -21.65351       686339.417\r\n",
      "           7  -48.80730       -21.65351            0.000\r\n",
      "           8  -48.78027       -21.65351       497862.219\r\n",
      "           9  -48.75324       -21.65351       845633.913\r\n"
     ]
    }
   ],
   "source": [
    "!head ../2_Emissions_inventory/roads/grid3km_d02.txt"
   ]
  }
 ],
 "metadata": {
  "kernelspec": {
   "display_name": "Python 3",
   "language": "python",
   "name": "python3"
  },
  "language_info": {
   "codemirror_mode": {
    "name": "ipython",
    "version": 3
   },
   "file_extension": ".py",
   "mimetype": "text/x-python",
   "name": "python",
   "nbconvert_exporter": "python",
   "pygments_lexer": "ipython3",
   "version": "3.7.7"
  }
 },
 "nbformat": 4,
 "nbformat_minor": 4
}
